{
 "cells": [
  {
   "cell_type": "code",
   "execution_count": 1,
   "id": "4b1281de",
   "metadata": {},
   "outputs": [
    {
     "name": "stdout",
     "output_type": "stream",
     "text": [
      "Hola\n"
     ]
    }
   ],
   "source": [
    "print(\"Hola\")"
   ]
  },
  {
   "cell_type": "code",
   "execution_count": 2,
   "id": "77149f97",
   "metadata": {},
   "outputs": [],
   "source": [
    "import pandas as pd, math, numpy as np"
   ]
  },
  {
   "cell_type": "code",
   "execution_count": 3,
   "id": "86bac8a7",
   "metadata": {},
   "outputs": [],
   "source": [
    "datos = pd.read_csv(\"Datos.csv\").set_index(\"Nombre\")"
   ]
  },
  {
   "cell_type": "code",
   "execution_count": 4,
   "id": "9baac30d",
   "metadata": {},
   "outputs": [
    {
     "name": "stdout",
     "output_type": "stream",
     "text": [
      "           gusto por la hamburguesa  gusto por la pizza  \\\n",
      "Nombre                                                    \n",
      "Sebastian                       0.5                 0.8   \n",
      "Carlos                          0.8                 0.7   \n",
      "Jose                            0.7                 0.7   \n",
      "Luis                            0.4                 0.9   \n",
      "Mateo                           0.9                 0.3   \n",
      "Perla                           0.2                 0.4   \n",
      "Dolly                           0.2                 0.4   \n",
      "Maria                           0.5                 0.9   \n",
      "Natalia                         0.8                 0.6   \n",
      "Erika                           0.7                 0.3   \n",
      "\n",
      "           gusto por los hotdogs  gusto por las papas fritas  \n",
      "Nombre                                                        \n",
      "Sebastian                    0.9                         0.4  \n",
      "Carlos                       0.7                         0.8  \n",
      "Jose                         0.5                         0.9  \n",
      "Luis                         0.8                         0.9  \n",
      "Mateo                        0.6                         0.2  \n",
      "Perla                        0.4                         0.1  \n",
      "Dolly                        0.3                         0.7  \n",
      "Maria                        0.7                         0.6  \n",
      "Natalia                      0.5                         0.8  \n",
      "Erika                        0.6                         0.5  \n"
     ]
    }
   ],
   "source": [
    "print(datos);"
   ]
  },
  {
   "cell_type": "code",
   "execution_count": 5,
   "id": "0205d08f",
   "metadata": {},
   "outputs": [],
   "source": [
    "# Obtiene las filas correspondientes a \"Perla\" y \"Dolly\"\n",
    "row1 = datos.loc[\"Perla\"]\n",
    "if row1.dtype == 'O':  # verificar si el tipo de datos es 'object' (string)\n",
    "    row1 = row1.str.replace(',', '.').astype(float)\n",
    "row2 = datos.loc[\"Dolly\"]\n",
    "if row2.dtype == 'O':  # verificar si el tipo de datos es 'object' (string)\n",
    "    row2 = row2.str.replace(',', '.').astype(float)"
   ]
  },
  {
   "cell_type": "code",
   "execution_count": 6,
   "id": "d1144a88",
   "metadata": {},
   "outputs": [],
   "source": [
    "# Calcula la similitud coseno entre dos filas\n",
    "def cosine_similarity(vector1, vector2):\n",
    "    dot_product = np.dot(vector1, vector2)\n",
    "    mag1 = np.sqrt(np.dot(vector1, vector1))\n",
    "    mag2 = np.sqrt(np.dot(vector2, vector2))\n",
    "    return dot_product / (mag1 * mag2)"
   ]
  },
  {
   "cell_type": "code",
   "execution_count": 7,
   "id": "31b5ddc4",
   "metadata": {},
   "outputs": [
    {
     "name": "stdout",
     "output_type": "stream",
     "text": [
      "0.7259662712736914\n"
     ]
    }
   ],
   "source": [
    "# Calcula la similitud coseno entre las filas seleccionadas\n",
    "cosineSimilarity = cosine_similarity(row1,row2)\n",
    "print(cosineSimilarity)"
   ]
  },
  {
   "cell_type": "code",
   "execution_count": null,
   "id": "39571498",
   "metadata": {},
   "outputs": [],
   "source": []
  }
 ],
 "metadata": {
  "kernelspec": {
   "display_name": "Python 3 (ipykernel)",
   "language": "python",
   "name": "python3"
  },
  "language_info": {
   "codemirror_mode": {
    "name": "ipython",
    "version": 3
   },
   "file_extension": ".py",
   "mimetype": "text/x-python",
   "name": "python",
   "nbconvert_exporter": "python",
   "pygments_lexer": "ipython3",
   "version": "3.9.13"
  }
 },
 "nbformat": 4,
 "nbformat_minor": 5
}
